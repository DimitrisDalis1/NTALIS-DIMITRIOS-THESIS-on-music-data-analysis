{
 "cells": [
  {
   "cell_type": "code",
   "execution_count": 1,
   "metadata": {},
   "outputs": [
    {
     "ename": "NameError",
     "evalue": "name '__file__' is not defined",
     "output_type": "error",
     "traceback": [
      "\u001b[1;31m---------------------------------------------------------------------------\u001b[0m",
      "\u001b[1;31mNameError\u001b[0m                                 Traceback (most recent call last)",
      "Cell \u001b[1;32mIn[1], line 4\u001b[0m\n\u001b[0;32m      1\u001b[0m \u001b[38;5;28;01mimport\u001b[39;00m \u001b[38;5;21;01msys\u001b[39;00m\n\u001b[0;32m      2\u001b[0m \u001b[38;5;28;01mimport\u001b[39;00m \u001b[38;5;21;01mos\u001b[39;00m\n\u001b[0;32m      3\u001b[0m sys\u001b[38;5;241m.\u001b[39mpath\u001b[38;5;241m.\u001b[39minsert(\u001b[38;5;241m0\u001b[39m, os\u001b[38;5;241m.\u001b[39mpath\u001b[38;5;241m.\u001b[39mjoin(os\u001b[38;5;241m.\u001b[39mpath\u001b[38;5;241m.\u001b[39mdirname(\n\u001b[1;32m----> 4\u001b[0m     os\u001b[38;5;241m.\u001b[39mpath\u001b[38;5;241m.\u001b[39mrealpath(\u001b[38;5;18;43m__file__\u001b[39;49m)), \u001b[38;5;124m\"\u001b[39m\u001b[38;5;124m../\u001b[39m\u001b[38;5;124m\"\u001b[39m))\n\u001b[0;32m      5\u001b[0m \u001b[38;5;28;01mfrom\u001b[39;00m \u001b[38;5;21;01mpyAudioAnalysis\u001b[39;00m \u001b[38;5;28;01mimport\u001b[39;00m audioBasicIO\n\u001b[0;32m      6\u001b[0m \u001b[38;5;28;01mfrom\u001b[39;00m \u001b[38;5;21;01mpyAudioAnalysis\u001b[39;00m \u001b[38;5;28;01mimport\u001b[39;00m ShortTermFeatures\n",
      "\u001b[1;31mNameError\u001b[0m: name '__file__' is not defined"
     ]
    }
   ],
   "source": [
    "# Example 3: segment-level feature extraction\n",
    "from pyAudioAnalysis import MidTermFeatures as aF\n",
    "from pyAudioAnalysis import audioBasicIO as aIO \n",
    "\n",
    "# read audio data from file \n",
    "# (returns sampling freq and signal as a numpy array)\n",
    "fs, s = aIO.read_audio_file(\"hpeirwtika1.wav\")\n",
    "\n",
    "# get mid-term (segment) feature statistics \n",
    "# and respective short-term features:\n",
    "aF.directory_feature_extraction\n",
    "mt, st, mt_n = aF.mid_feature_extraction(s, fs, 1 * fs, 1 * fs, \n",
    "                                         0.05 * fs, 0.05 * fs)\n",
    "print(f'signal duration {len(s)/fs} seconds')\n",
    "print(f'{st.shape[1]} {st.shape[0]}-D short-term feature vectors extracted')\n",
    "print(f'{mt.shape[1]} {mt.shape[0]}-D segment feature statistic vectors extracted')\n",
    "print('mid-term feature names')\n",
    "for i, mi in enumerate(mt_n):\n",
    "    print(f'{i}:{mi}')"
   ]
  }
 ],
 "metadata": {
  "kernelspec": {
   "display_name": "ptuxiakh",
   "language": "python",
   "name": "python3"
  },
  "language_info": {
   "codemirror_mode": {
    "name": "ipython",
    "version": 3
   },
   "file_extension": ".py",
   "mimetype": "text/x-python",
   "name": "python",
   "nbconvert_exporter": "python",
   "pygments_lexer": "ipython3",
   "version": "3.12.2"
  }
 },
 "nbformat": 4,
 "nbformat_minor": 2
}
